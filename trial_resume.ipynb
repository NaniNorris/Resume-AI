{
 "cells": [
  {
   "cell_type": "code",
   "execution_count": 1,
   "metadata": {},
   "outputs": [],
   "source": [
    "from docxtpl import DocxTemplate"
   ]
  },
  {
   "cell_type": "code",
   "execution_count": 2,
   "metadata": {},
   "outputs": [],
   "source": [
    "doc = DocxTemplate(\"GL+Resume+Template29.docx\")\n",
    "context = {\n",
    "    'name':\"CH. Ananthasayanan\",\n",
    "    'phone_number':\"7010740631\",'email':\"ananthasayanan98@gmail.com\",\n",
    "    'summary':\"A Data science enthusiast with a strong understanding of machine learning algorithms. Seeking an opportunity to collaborate with a team to develop robust machine and deep learning models that have a tangible impact on Organization quality. Committed to furthering my career in this dynamic field while contributing to the success of the organization.\",\n",
    "    'job_roll_i': \"Financial Analyst\",'company_name_i':\"ITC Ltd\",'tenure_i':\"MAY, 2021 – Dec, 2022\",\n",
    "    'work_exp_i':\"\"\"▪ Conducted comprehensive sales trend analysis for each customer, aligning the findings with the planned targets. Effectively visualized and presented the analysis to top management, facilitating informed decision-making.\n",
    "    ▪ Collaborated closely with cross-functional teams including materials, production, and marketing, gaining valuable insights into raw material market trends. Utilized this knowledge to support the marketing team in negotiating pricing agreements with customers, ensuring competitive pricing strategies.\n",
    "    ▪ Delivering monthly interactive visual dashboard reports, consolidating crucial information such as customerwise and product-wise trends, contribution analysis, raw material mix, price trends, and wastage reports. This streamlined approach provided stakeholders with a centralized and comprehensive overview, enhancing decision-making processes.\"\"\",\n",
    "    'achievements_i':\"Collaborated closely with the IT team to successfully develop and implement an automated sales reporting system. This system included a visually intuitive dashboard that effectively tracked and compared daily sales against targets, both on a customer and product level.\",\n",
    "    'achievements_ii':\"Developed Macros to simplify and manage day to day activity more efficiently, thus saving 2 hours of work per day.\",\n",
    "    'education_i':\"Post Graduate Program Data Science Engineering\",'college_i':\"Great Lakes Institute of Management\",'year_i':\"2023\",'grade_i':\"Excel\",\n",
    "    'education_ii':\"Cost and Management Accountant\",'college_ii':\"Institute of Cost Accountant of India\",'year_ii':\"2020\",'grade_ii':\"69%\",\n",
    "    'education_iii':\"B.com(Accounting and finance)\",'college_iii':\"vivekananda college\",'year_iii':\"2018\",'grade_iii':\"63%\",\n",
    "    'skill_i':\"Programming Languages: Python (including TensorFlow)\",'skill_ii':\"Data Manipulation and Analysis: SQL, Pandas, NumPy\",\n",
    "    'skill_iii':\"Data Visualization: Tableau, Matplotlib, Seaborn\",'skill_iiii':\"Machine Learning: Regression, Classification, Clustering, Neural Networks\",\n",
    "    'other_certificate':\"Python, SQL - Hackerrank\",\n",
    "    'projects':\"\"\"● Project 1: Airbnb instant bookability status classification – Machine Learning\n",
    "Objective: Assist host in better management and maximizing the booking potential with a robust classification model which predicts the instant bookability status based on various services provided by the host.\n",
    "Approach: \n",
    "- Utilized Airbnb dataset of multiple cities and understood the various pattern led to instant bookable status through EDA process\n",
    "- Performed necessary Preprocessing like encoding, scaling, treating outliers, Feature selection, Feature engineering etc.\n",
    "- Build various model like Logistic regression, Decision tree, XBG boost, Random forest, Cat boost etc. Used various model evaluation metrics and by hyperparameter tuning got the best model.\n",
    "Tools Used: For ex- Python, numpy, scikit-learn, pandas, Streamlit\n",
    "\n",
    "● Project 2: working on Human Action recognition – Computer vision (Deep Learning)\n",
    "Objective: Building Neural network model to accurately classify actions from a sequence of videos. \n",
    "Approach:\n",
    "- Used UCF50 dataset \n",
    "- Data preprocessing: Used open cv library to extract details about the data like no. of frames, dimensions of videos etc to understand about the sample data. Used techniques like frame extraction, resize, normalization.\n",
    "- Model Architecture: Multiple approaches are used as follow\n",
    "o Used (2+1) d convolution approach for the decomposition of the spatial and temporal dimensions\n",
    "o A two-stream action recognition model utilizes two separate streams, one for spatial information (RGB frames) and the other for temporal information (optical flow or motion maps)\n",
    "o Utilized Mediapipe Holistic to extract pose landmarks from a video sequence and constructed an LSTM network to train on the sequence patterns.\n",
    "\n",
    "Tools Used: Python, open cv, TensorFlow, mediapipe holistic, TensorFlow data input pipeline\n",
    "\"\"\",'git_hub':\"www\",'linkdin':\"ananthasayanan\",'interest_i':\"football\",'interest_ii':\"music\",'interest_iii':\"fifa\"}\n",
    "\n"
   ]
  },
  {
   "cell_type": "code",
   "execution_count": 3,
   "metadata": {},
   "outputs": [],
   "source": [
    "doc.render(context=context)\n",
    "doc.save(\"generated.docx\")"
   ]
  },
  {
   "cell_type": "code",
   "execution_count": null,
   "metadata": {},
   "outputs": [],
   "source": []
  }
 ],
 "metadata": {
  "kernelspec": {
   "display_name": "package",
   "language": "python",
   "name": "package"
  },
  "language_info": {
   "codemirror_mode": {
    "name": "ipython",
    "version": 3
   },
   "file_extension": ".py",
   "mimetype": "text/x-python",
   "name": "python",
   "nbconvert_exporter": "python",
   "pygments_lexer": "ipython3",
   "version": "3.11.3"
  }
 },
 "nbformat": 4,
 "nbformat_minor": 2
}
