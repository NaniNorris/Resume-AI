{
 "cells": [
  {
   "cell_type": "code",
   "execution_count": 1,
   "metadata": {},
   "outputs": [
    {
     "name": "stdout",
     "output_type": "stream",
     "text": [
      "Requirement already satisfied: transformers==4.29.2 in d:\\share drive\\ananth\\great learning\\action_detection\\action_detection\\lib\\site-packages (4.29.2)\n",
      "Requirement already satisfied: filelock in d:\\share drive\\ananth\\great learning\\action_detection\\action_detection\\lib\\site-packages (from transformers==4.29.2) (3.12.2)\n",
      "Requirement already satisfied: huggingface-hub<1.0,>=0.14.1 in d:\\share drive\\ananth\\great learning\\action_detection\\action_detection\\lib\\site-packages (from transformers==4.29.2) (0.16.4)\n",
      "Requirement already satisfied: numpy>=1.17 in d:\\share drive\\ananth\\great learning\\action_detection\\action_detection\\lib\\site-packages (from transformers==4.29.2) (1.24.2)\n",
      "Requirement already satisfied: packaging>=20.0 in d:\\share drive\\ananth\\great learning\\action_detection\\action_detection\\lib\\site-packages (from transformers==4.29.2) (23.1)\n",
      "Requirement already satisfied: pyyaml>=5.1 in d:\\share drive\\ananth\\great learning\\action_detection\\action_detection\\lib\\site-packages (from transformers==4.29.2) (6.0.1)\n",
      "Requirement already satisfied: regex!=2019.12.17 in d:\\share drive\\ananth\\great learning\\action_detection\\action_detection\\lib\\site-packages (from transformers==4.29.2) (2023.8.8)\n",
      "Requirement already satisfied: requests in d:\\share drive\\ananth\\great learning\\action_detection\\action_detection\\lib\\site-packages (from transformers==4.29.2) (2.28.2)\n",
      "Requirement already satisfied: tokenizers!=0.11.3,<0.14,>=0.11.1 in d:\\share drive\\ananth\\great learning\\action_detection\\action_detection\\lib\\site-packages (from transformers==4.29.2) (0.13.3)\n",
      "Requirement already satisfied: tqdm>=4.27 in d:\\share drive\\ananth\\great learning\\action_detection\\action_detection\\lib\\site-packages (from transformers==4.29.2) (4.65.2)\n",
      "Requirement already satisfied: fsspec in d:\\share drive\\ananth\\great learning\\action_detection\\action_detection\\lib\\site-packages (from huggingface-hub<1.0,>=0.14.1->transformers==4.29.2) (2023.6.0)\n",
      "Requirement already satisfied: typing-extensions>=3.7.4.3 in d:\\share drive\\ananth\\great learning\\action_detection\\action_detection\\lib\\site-packages (from huggingface-hub<1.0,>=0.14.1->transformers==4.29.2) (4.5.0)\n",
      "Requirement already satisfied: colorama in d:\\share drive\\ananth\\great learning\\action_detection\\action_detection\\lib\\site-packages (from tqdm>=4.27->transformers==4.29.2) (0.4.6)\n",
      "Requirement already satisfied: charset-normalizer<4,>=2 in d:\\share drive\\ananth\\great learning\\action_detection\\action_detection\\lib\\site-packages (from requests->transformers==4.29.2) (3.0.1)\n",
      "Requirement already satisfied: idna<4,>=2.5 in d:\\share drive\\ananth\\great learning\\action_detection\\action_detection\\lib\\site-packages (from requests->transformers==4.29.2) (3.4)\n",
      "Requirement already satisfied: urllib3<1.27,>=1.21.1 in d:\\share drive\\ananth\\great learning\\action_detection\\action_detection\\lib\\site-packages (from requests->transformers==4.29.2) (1.26.14)\n",
      "Requirement already satisfied: certifi>=2017.4.17 in d:\\share drive\\ananth\\great learning\\action_detection\\action_detection\\lib\\site-packages (from requests->transformers==4.29.2) (2022.12.7)\n",
      "Requirement already satisfied: accelerate==0.19.0 in d:\\share drive\\ananth\\great learning\\action_detection\\action_detection\\lib\\site-packages (0.19.0)\n",
      "Requirement already satisfied: numpy>=1.17 in d:\\share drive\\ananth\\great learning\\action_detection\\action_detection\\lib\\site-packages (from accelerate==0.19.0) (1.24.2)\n",
      "Requirement already satisfied: packaging>=20.0 in d:\\share drive\\ananth\\great learning\\action_detection\\action_detection\\lib\\site-packages (from accelerate==0.19.0) (23.1)\n",
      "Requirement already satisfied: psutil in d:\\share drive\\ananth\\great learning\\action_detection\\action_detection\\lib\\site-packages (from accelerate==0.19.0) (5.9.5)\n",
      "Requirement already satisfied: pyyaml in d:\\share drive\\ananth\\great learning\\action_detection\\action_detection\\lib\\site-packages (from accelerate==0.19.0) (6.0.1)\n",
      "Requirement already satisfied: torch>=1.6.0 in d:\\share drive\\ananth\\great learning\\action_detection\\action_detection\\lib\\site-packages (from accelerate==0.19.0) (2.0.0)\n",
      "Requirement already satisfied: filelock in d:\\share drive\\ananth\\great learning\\action_detection\\action_detection\\lib\\site-packages (from torch>=1.6.0->accelerate==0.19.0) (3.12.2)\n",
      "Requirement already satisfied: typing-extensions in d:\\share drive\\ananth\\great learning\\action_detection\\action_detection\\lib\\site-packages (from torch>=1.6.0->accelerate==0.19.0) (4.5.0)\n",
      "Requirement already satisfied: sympy in d:\\share drive\\ananth\\great learning\\action_detection\\action_detection\\lib\\site-packages (from torch>=1.6.0->accelerate==0.19.0) (1.12)\n",
      "Requirement already satisfied: networkx in d:\\share drive\\ananth\\great learning\\action_detection\\action_detection\\lib\\site-packages (from torch>=1.6.0->accelerate==0.19.0) (3.1)\n",
      "Requirement already satisfied: jinja2 in d:\\share drive\\ananth\\great learning\\action_detection\\action_detection\\lib\\site-packages (from torch>=1.6.0->accelerate==0.19.0) (3.1.2)\n",
      "Requirement already satisfied: MarkupSafe>=2.0 in d:\\share drive\\ananth\\great learning\\action_detection\\action_detection\\lib\\site-packages (from jinja2->torch>=1.6.0->accelerate==0.19.0) (2.1.2)\n",
      "Requirement already satisfied: mpmath>=0.19 in d:\\share drive\\ananth\\great learning\\action_detection\\action_detection\\lib\\site-packages (from sympy->torch>=1.6.0->accelerate==0.19.0) (1.3.0)\n",
      "Requirement already satisfied: torch==2.0.0 in d:\\share drive\\ananth\\great learning\\action_detection\\action_detection\\lib\\site-packages (2.0.0)\n",
      "Requirement already satisfied: filelock in d:\\share drive\\ananth\\great learning\\action_detection\\action_detection\\lib\\site-packages (from torch==2.0.0) (3.12.2)\n",
      "Requirement already satisfied: typing-extensions in d:\\share drive\\ananth\\great learning\\action_detection\\action_detection\\lib\\site-packages (from torch==2.0.0) (4.5.0)\n",
      "Requirement already satisfied: sympy in d:\\share drive\\ananth\\great learning\\action_detection\\action_detection\\lib\\site-packages (from torch==2.0.0) (1.12)\n",
      "Requirement already satisfied: networkx in d:\\share drive\\ananth\\great learning\\action_detection\\action_detection\\lib\\site-packages (from torch==2.0.0) (3.1)\n",
      "Requirement already satisfied: jinja2 in d:\\share drive\\ananth\\great learning\\action_detection\\action_detection\\lib\\site-packages (from torch==2.0.0) (3.1.2)\n",
      "Requirement already satisfied: MarkupSafe>=2.0 in d:\\share drive\\ananth\\great learning\\action_detection\\action_detection\\lib\\site-packages (from jinja2->torch==2.0.0) (2.1.2)\n",
      "Requirement already satisfied: mpmath>=0.19 in d:\\share drive\\ananth\\great learning\\action_detection\\action_detection\\lib\\site-packages (from sympy->torch==2.0.0) (1.3.0)\n",
      "Requirement already satisfied: einops==0.6.1 in d:\\share drive\\ananth\\great learning\\action_detection\\action_detection\\lib\\site-packages (0.6.1)\n"
     ]
    }
   ],
   "source": [
    "!pip install transformers==4.29.2\n",
    "!pip install accelerate==0.19.0\n",
    "!pip install torch==2.0.0\n",
    "!pip install einops==0.6.1"
   ]
  },
  {
   "cell_type": "code",
   "execution_count": 2,
   "metadata": {},
   "outputs": [
    {
     "ename": "ImportError",
     "evalue": "\n\nIMPORTANT: PLEASE READ THIS FOR ADVICE ON HOW TO SOLVE THIS ISSUE!\n\nImporting the numpy C-extensions failed. This error can happen for\nmany reasons, often due to issues with your setup or how NumPy was\ninstalled.\n\nWe have compiled some common reasons and troubleshooting tips at:\n\n    https://numpy.org/devdocs/user/troubleshooting-importerror.html\n\nPlease note and check the following:\n\n  * The Python version is: Python3.10 from \"d:\\Share drive\\Ananth\\Great learning\\Action_detection\\action_detection\\Scripts\\python.exe\"\n  * The NumPy version is: \"1.24.2\"\n\nand make sure that they are the versions you expect.\nPlease carefully study the documentation linked above for further help.\n\nOriginal error was: No module named 'numpy.core._multiarray_umath'\n",
     "output_type": "error",
     "traceback": [
      "\u001b[1;31m---------------------------------------------------------------------------\u001b[0m",
      "\u001b[1;31mModuleNotFoundError\u001b[0m                       Traceback (most recent call last)",
      "File \u001b[1;32md:\\Share drive\\Ananth\\Great learning\\Action_detection\\action_detection\\lib\\site-packages\\numpy\\core\\__init__.py:23\u001b[0m\n\u001b[0;32m     22\u001b[0m \u001b[39mtry\u001b[39;00m:\n\u001b[1;32m---> 23\u001b[0m     \u001b[39mfrom\u001b[39;00m \u001b[39m.\u001b[39;00m \u001b[39mimport\u001b[39;00m multiarray\n\u001b[0;32m     24\u001b[0m \u001b[39mexcept\u001b[39;00m \u001b[39mImportError\u001b[39;00m \u001b[39mas\u001b[39;00m exc:\n",
      "File \u001b[1;32md:\\Share drive\\Ananth\\Great learning\\Action_detection\\action_detection\\lib\\site-packages\\numpy\\core\\multiarray.py:10\u001b[0m\n\u001b[0;32m      9\u001b[0m \u001b[39mimport\u001b[39;00m \u001b[39mfunctools\u001b[39;00m\n\u001b[1;32m---> 10\u001b[0m \u001b[39mfrom\u001b[39;00m \u001b[39m.\u001b[39;00m \u001b[39mimport\u001b[39;00m overrides\n\u001b[0;32m     11\u001b[0m \u001b[39mfrom\u001b[39;00m \u001b[39m.\u001b[39;00m \u001b[39mimport\u001b[39;00m _multiarray_umath\n",
      "File \u001b[1;32md:\\Share drive\\Ananth\\Great learning\\Action_detection\\action_detection\\lib\\site-packages\\numpy\\core\\overrides.py:6\u001b[0m\n\u001b[0;32m      4\u001b[0m \u001b[39mimport\u001b[39;00m \u001b[39mos\u001b[39;00m\n\u001b[1;32m----> 6\u001b[0m \u001b[39mfrom\u001b[39;00m \u001b[39mnumpy\u001b[39;00m\u001b[39m.\u001b[39;00m\u001b[39mcore\u001b[39;00m\u001b[39m.\u001b[39;00m\u001b[39m_multiarray_umath\u001b[39;00m \u001b[39mimport\u001b[39;00m (\n\u001b[0;32m      7\u001b[0m     add_docstring, implement_array_function, _get_implementing_args)\n\u001b[0;32m      8\u001b[0m \u001b[39mfrom\u001b[39;00m \u001b[39mnumpy\u001b[39;00m\u001b[39m.\u001b[39;00m\u001b[39mcompat\u001b[39;00m\u001b[39m.\u001b[39;00m\u001b[39m_inspect\u001b[39;00m \u001b[39mimport\u001b[39;00m getargspec\n",
      "\u001b[1;31mModuleNotFoundError\u001b[0m: No module named 'numpy.core._multiarray_umath'",
      "\nDuring handling of the above exception, another exception occurred:\n",
      "\u001b[1;31mImportError\u001b[0m                               Traceback (most recent call last)",
      "Cell \u001b[1;32mIn[2], line 1\u001b[0m\n\u001b[1;32m----> 1\u001b[0m \u001b[39mimport\u001b[39;00m \u001b[39mtorch\u001b[39;00m\n\u001b[0;32m      2\u001b[0m \u001b[39mfrom\u001b[39;00m \u001b[39mtransformers\u001b[39;00m \u001b[39mimport\u001b[39;00m AutoTokenizer, pipeline\n\u001b[0;32m      5\u001b[0m tokenizer \u001b[39m=\u001b[39m AutoTokenizer\u001b[39m.\u001b[39mfrom_pretrained(\n\u001b[0;32m      6\u001b[0m     \u001b[39m\"\u001b[39m\u001b[39mh2oai/h2ogpt-gm-oasst1-en-2048-falcon-7b-v2\u001b[39m\u001b[39m\"\u001b[39m,\n\u001b[0;32m      7\u001b[0m     use_fast\u001b[39m=\u001b[39m\u001b[39mFalse\u001b[39;00m,\n\u001b[0;32m      8\u001b[0m     padding_side\u001b[39m=\u001b[39m\u001b[39m\"\u001b[39m\u001b[39mleft\u001b[39m\u001b[39m\"\u001b[39m,\n\u001b[0;32m      9\u001b[0m     trust_remote_code\u001b[39m=\u001b[39m\u001b[39mTrue\u001b[39;00m,\n\u001b[0;32m     10\u001b[0m )\n",
      "File \u001b[1;32md:\\Share drive\\Ananth\\Great learning\\Action_detection\\action_detection\\lib\\site-packages\\torch\\__init__.py:934\u001b[0m\n\u001b[0;32m    929\u001b[0m \u001b[39m################################################################################\u001b[39;00m\n\u001b[0;32m    930\u001b[0m \u001b[39m# Define Storage and Tensor classes\u001b[39;00m\n\u001b[0;32m    931\u001b[0m \u001b[39m################################################################################\u001b[39;00m\n\u001b[0;32m    933\u001b[0m \u001b[39mfrom\u001b[39;00m \u001b[39m.\u001b[39;00m\u001b[39m_tensor\u001b[39;00m \u001b[39mimport\u001b[39;00m Tensor\n\u001b[1;32m--> 934\u001b[0m \u001b[39mfrom\u001b[39;00m \u001b[39m.\u001b[39;00m\u001b[39mstorage\u001b[39;00m \u001b[39mimport\u001b[39;00m _StorageBase, TypedStorage, _LegacyStorage, UntypedStorage, _warn_typed_storage_removal\n\u001b[0;32m    936\u001b[0m \u001b[39m# NOTE: New <type>Storage classes should never be added. When adding a new\u001b[39;00m\n\u001b[0;32m    937\u001b[0m \u001b[39m# dtype, use torch.storage.TypedStorage directly.\u001b[39;00m\n\u001b[0;32m    939\u001b[0m \u001b[39mclass\u001b[39;00m \u001b[39mByteStorage\u001b[39;00m(_LegacyStorage):\n",
      "File \u001b[1;32md:\\Share drive\\Ananth\\Great learning\\Action_detection\\action_detection\\lib\\site-packages\\torch\\storage.py:12\u001b[0m\n\u001b[0;32m     10\u001b[0m \u001b[39mimport\u001b[39;00m \u001b[39mwarnings\u001b[39;00m\n\u001b[0;32m     11\u001b[0m \u001b[39mtry\u001b[39;00m:\n\u001b[1;32m---> 12\u001b[0m     \u001b[39mimport\u001b[39;00m \u001b[39mnumpy\u001b[39;00m \u001b[39mas\u001b[39;00m \u001b[39mnp\u001b[39;00m\n\u001b[0;32m     13\u001b[0m     HAS_NUMPY \u001b[39m=\u001b[39m \u001b[39mTrue\u001b[39;00m\n\u001b[0;32m     14\u001b[0m \u001b[39mexcept\u001b[39;00m \u001b[39mModuleNotFoundError\u001b[39;00m:\n",
      "File \u001b[1;32md:\\Share drive\\Ananth\\Great learning\\Action_detection\\action_detection\\lib\\site-packages\\numpy\\__init__.py:141\u001b[0m\n\u001b[0;32m    138\u001b[0m \u001b[39m# Allow distributors to run custom init code\u001b[39;00m\n\u001b[0;32m    139\u001b[0m \u001b[39mfrom\u001b[39;00m \u001b[39m.\u001b[39;00m \u001b[39mimport\u001b[39;00m _distributor_init\n\u001b[1;32m--> 141\u001b[0m \u001b[39mfrom\u001b[39;00m \u001b[39m.\u001b[39;00m \u001b[39mimport\u001b[39;00m core\n\u001b[0;32m    142\u001b[0m \u001b[39mfrom\u001b[39;00m \u001b[39m.\u001b[39;00m\u001b[39mcore\u001b[39;00m \u001b[39mimport\u001b[39;00m \u001b[39m*\u001b[39m\n\u001b[0;32m    143\u001b[0m \u001b[39mfrom\u001b[39;00m \u001b[39m.\u001b[39;00m \u001b[39mimport\u001b[39;00m compat\n",
      "File \u001b[1;32md:\\Share drive\\Ananth\\Great learning\\Action_detection\\action_detection\\lib\\site-packages\\numpy\\core\\__init__.py:49\u001b[0m\n\u001b[0;32m     25\u001b[0m     \u001b[39mimport\u001b[39;00m \u001b[39msys\u001b[39;00m\n\u001b[0;32m     26\u001b[0m     msg \u001b[39m=\u001b[39m \u001b[39m\"\"\"\u001b[39m\n\u001b[0;32m     27\u001b[0m \n\u001b[0;32m     28\u001b[0m \u001b[39mIMPORTANT: PLEASE READ THIS FOR ADVICE ON HOW TO SOLVE THIS ISSUE!\u001b[39m\n\u001b[1;32m   (...)\u001b[0m\n\u001b[0;32m     47\u001b[0m \u001b[39m\"\"\"\u001b[39m \u001b[39m%\u001b[39m (sys\u001b[39m.\u001b[39mversion_info[\u001b[39m0\u001b[39m], sys\u001b[39m.\u001b[39mversion_info[\u001b[39m1\u001b[39m], sys\u001b[39m.\u001b[39mexecutable,\n\u001b[0;32m     48\u001b[0m         __version__, exc)\n\u001b[1;32m---> 49\u001b[0m     \u001b[39mraise\u001b[39;00m \u001b[39mImportError\u001b[39;00m(msg)\n\u001b[0;32m     50\u001b[0m \u001b[39mfinally\u001b[39;00m:\n\u001b[0;32m     51\u001b[0m     \u001b[39mfor\u001b[39;00m envkey \u001b[39min\u001b[39;00m env_added:\n",
      "\u001b[1;31mImportError\u001b[0m: \n\nIMPORTANT: PLEASE READ THIS FOR ADVICE ON HOW TO SOLVE THIS ISSUE!\n\nImporting the numpy C-extensions failed. This error can happen for\nmany reasons, often due to issues with your setup or how NumPy was\ninstalled.\n\nWe have compiled some common reasons and troubleshooting tips at:\n\n    https://numpy.org/devdocs/user/troubleshooting-importerror.html\n\nPlease note and check the following:\n\n  * The Python version is: Python3.10 from \"d:\\Share drive\\Ananth\\Great learning\\Action_detection\\action_detection\\Scripts\\python.exe\"\n  * The NumPy version is: \"1.24.2\"\n\nand make sure that they are the versions you expect.\nPlease carefully study the documentation linked above for further help.\n\nOriginal error was: No module named 'numpy.core._multiarray_umath'\n"
     ]
    }
   ],
   "source": [
    "import torch\n",
    "from transformers import AutoTokenizer, pipeline\n",
    "\n",
    "\n",
    "tokenizer = AutoTokenizer.from_pretrained(\n",
    "    \"h2oai/h2ogpt-gm-oasst1-en-2048-falcon-7b-v2\",\n",
    "    use_fast=False,\n",
    "    padding_side=\"left\",\n",
    "    trust_remote_code=True,\n",
    ")\n",
    "\n",
    "generate_text = pipeline(\n",
    "    model=\"h2oai/h2ogpt-gm-oasst1-en-2048-falcon-7b-v2\",\n",
    "    tokenizer=tokenizer,\n",
    "    torch_dtype=torch.float16,\n",
    "    trust_remote_code=True,\n",
    "    use_fast=False,\n",
    "    device_map={\"\": \"cuda:0\"},\n",
    ")\n",
    "\n",
    "res = generate_text(\n",
    "    \"Why is drinking water so healthy?\",\n",
    "    min_new_tokens=2,\n",
    "    max_new_tokens=1024,\n",
    "    do_sample=False,\n",
    "    num_beams=1,\n",
    "    temperature=float(0.3),\n",
    "    repetition_penalty=float(1.2),\n",
    "    renormalize_logits=True\n",
    ")\n",
    "print(res[0][\"generated_text\"])\n"
   ]
  },
  {
   "cell_type": "code",
   "execution_count": null,
   "metadata": {},
   "outputs": [
    {
     "data": {
      "text/html": [
       "<pre style=\"white-space:pre;overflow-x:auto;line-height:normal;font-family:Menlo,'DejaVu Sans Mono',consolas,'Courier New',monospace\"><span style=\"color: #800000; text-decoration-color: #800000\">╭─────────────────────────────── </span><span style=\"color: #800000; text-decoration-color: #800000; font-weight: bold\">Traceback </span><span style=\"color: #bf7f7f; text-decoration-color: #bf7f7f; font-weight: bold\">(most recent call last)</span><span style=\"color: #800000; text-decoration-color: #800000\"> ────────────────────────────────╮</span>\n",
       "<span style=\"color: #800000; text-decoration-color: #800000\">│</span> in <span style=\"color: #00ff00; text-decoration-color: #00ff00\">&lt;module&gt;</span>:<span style=\"color: #0000ff; text-decoration-color: #0000ff\">1</span>                                                                                    <span style=\"color: #800000; text-decoration-color: #800000\">│</span>\n",
       "<span style=\"color: #800000; text-decoration-color: #800000\">│</span>                                                                                                  <span style=\"color: #800000; text-decoration-color: #800000\">│</span>\n",
       "<span style=\"color: #800000; text-decoration-color: #800000\">│</span> <span style=\"color: #800000; text-decoration-color: #800000\">❱ </span>1 <span style=\"color: #00ffff; text-decoration-color: #00ffff\">print</span>(generate_text.preprocess(<span style=\"color: #808000; text-decoration-color: #808000\">\"Why is drinking water so healthy?\"</span>)[<span style=\"color: #808000; text-decoration-color: #808000\">\"prompt_text\"</span>])          <span style=\"color: #800000; text-decoration-color: #800000\">│</span>\n",
       "<span style=\"color: #800000; text-decoration-color: #800000\">│</span>   <span style=\"color: #7f7f7f; text-decoration-color: #7f7f7f\">2 </span>                                                                                             <span style=\"color: #800000; text-decoration-color: #800000\">│</span>\n",
       "<span style=\"color: #800000; text-decoration-color: #800000\">╰──────────────────────────────────────────────────────────────────────────────────────────────────╯</span>\n",
       "<span style=\"color: #ff0000; text-decoration-color: #ff0000; font-weight: bold\">NameError: </span>name <span style=\"color: #008000; text-decoration-color: #008000\">'generate_text'</span> is not defined\n",
       "</pre>\n"
      ],
      "text/plain": [
       "\u001b[31m╭─\u001b[0m\u001b[31m──────────────────────────────\u001b[0m\u001b[31m \u001b[0m\u001b[1;31mTraceback \u001b[0m\u001b[1;2;31m(most recent call last)\u001b[0m\u001b[31m \u001b[0m\u001b[31m───────────────────────────────\u001b[0m\u001b[31m─╮\u001b[0m\n",
       "\u001b[31m│\u001b[0m in \u001b[92m<module>\u001b[0m:\u001b[94m1\u001b[0m                                                                                    \u001b[31m│\u001b[0m\n",
       "\u001b[31m│\u001b[0m                                                                                                  \u001b[31m│\u001b[0m\n",
       "\u001b[31m│\u001b[0m \u001b[31m❱ \u001b[0m1 \u001b[96mprint\u001b[0m(generate_text.preprocess(\u001b[33m\"\u001b[0m\u001b[33mWhy is drinking water so healthy?\u001b[0m\u001b[33m\"\u001b[0m)[\u001b[33m\"\u001b[0m\u001b[33mprompt_text\u001b[0m\u001b[33m\"\u001b[0m])          \u001b[31m│\u001b[0m\n",
       "\u001b[31m│\u001b[0m   \u001b[2m2 \u001b[0m                                                                                             \u001b[31m│\u001b[0m\n",
       "\u001b[31m╰──────────────────────────────────────────────────────────────────────────────────────────────────╯\u001b[0m\n",
       "\u001b[1;91mNameError: \u001b[0mname \u001b[32m'generate_text'\u001b[0m is not defined\n"
      ]
     },
     "metadata": {},
     "output_type": "display_data"
    }
   ],
   "source": [
    "print(generate_text.preprocess(\"Why is drinking water so healthy?\")[\"prompt_text\"])"
   ]
  },
  {
   "cell_type": "code",
   "execution_count": null,
   "metadata": {},
   "outputs": [],
   "source": []
  }
 ],
 "metadata": {
  "kernelspec": {
   "display_name": "action_detection",
   "language": "python",
   "name": "action_detection"
  },
  "language_info": {
   "codemirror_mode": {
    "name": "ipython",
    "version": 3
   },
   "file_extension": ".py",
   "mimetype": "text/x-python",
   "name": "python",
   "nbconvert_exporter": "python",
   "pygments_lexer": "ipython3",
   "version": "3.10.9"
  },
  "orig_nbformat": 4
 },
 "nbformat": 4,
 "nbformat_minor": 2
}
